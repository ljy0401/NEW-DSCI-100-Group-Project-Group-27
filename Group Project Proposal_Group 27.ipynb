{
 "cells": [
  {
   "cell_type": "markdown",
   "metadata": {},
   "source": [
    "DSCI 100 Group Project Proposal - Group 27\n",
    "\n",
    "Raisin Dataset - Classification For Different Types of Raisin"
   ]
  },
  {
   "cell_type": "code",
   "execution_count": 2,
   "metadata": {},
   "outputs": [
    {
     "name": "stderr",
     "output_type": "stream",
     "text": [
      "── \u001b[1mAttaching packages\u001b[22m ─────────────────────────────────────── tidyverse 1.3.0 ──\n",
      "\n",
      "\u001b[32m✔\u001b[39m \u001b[34mggplot2\u001b[39m 3.3.2     \u001b[32m✔\u001b[39m \u001b[34mpurrr  \u001b[39m 0.3.4\n",
      "\u001b[32m✔\u001b[39m \u001b[34mtibble \u001b[39m 3.0.3     \u001b[32m✔\u001b[39m \u001b[34mdplyr  \u001b[39m 1.0.2\n",
      "\u001b[32m✔\u001b[39m \u001b[34mtidyr  \u001b[39m 1.1.2     \u001b[32m✔\u001b[39m \u001b[34mstringr\u001b[39m 1.4.0\n",
      "\u001b[32m✔\u001b[39m \u001b[34mreadr  \u001b[39m 1.3.1     \u001b[32m✔\u001b[39m \u001b[34mforcats\u001b[39m 0.5.0\n",
      "\n",
      "Warning message:\n",
      "“package ‘ggplot2’ was built under R version 4.0.1”\n",
      "Warning message:\n",
      "“package ‘tibble’ was built under R version 4.0.2”\n",
      "Warning message:\n",
      "“package ‘tidyr’ was built under R version 4.0.2”\n",
      "Warning message:\n",
      "“package ‘dplyr’ was built under R version 4.0.2”\n",
      "── \u001b[1mConflicts\u001b[22m ────────────────────────────────────────── tidyverse_conflicts() ──\n",
      "\u001b[31m✖\u001b[39m \u001b[34mdplyr\u001b[39m::\u001b[32mfilter()\u001b[39m masks \u001b[34mstats\u001b[39m::filter()\n",
      "\u001b[31m✖\u001b[39m \u001b[34mdplyr\u001b[39m::\u001b[32mlag()\u001b[39m    masks \u001b[34mstats\u001b[39m::lag()\n",
      "\n",
      "Warning message:\n",
      "“package ‘tidymodels’ was built under R version 4.0.2”\n",
      "── \u001b[1mAttaching packages\u001b[22m ────────────────────────────────────── tidymodels 0.1.1 ──\n",
      "\n",
      "\u001b[32m✔\u001b[39m \u001b[34mbroom    \u001b[39m 0.7.0      \u001b[32m✔\u001b[39m \u001b[34mrecipes  \u001b[39m 0.1.13\n",
      "\u001b[32m✔\u001b[39m \u001b[34mdials    \u001b[39m 0.0.9      \u001b[32m✔\u001b[39m \u001b[34mrsample  \u001b[39m 0.0.7 \n",
      "\u001b[32m✔\u001b[39m \u001b[34minfer    \u001b[39m 0.5.4      \u001b[32m✔\u001b[39m \u001b[34mtune     \u001b[39m 0.1.1 \n",
      "\u001b[32m✔\u001b[39m \u001b[34mmodeldata\u001b[39m 0.0.2      \u001b[32m✔\u001b[39m \u001b[34mworkflows\u001b[39m 0.2.0 \n",
      "\u001b[32m✔\u001b[39m \u001b[34mparsnip  \u001b[39m 0.1.3      \u001b[32m✔\u001b[39m \u001b[34myardstick\u001b[39m 0.0.7 \n",
      "\n",
      "Warning message:\n",
      "“package ‘broom’ was built under R version 4.0.2”\n",
      "Warning message:\n",
      "“package ‘dials’ was built under R version 4.0.2”\n",
      "Warning message:\n",
      "“package ‘infer’ was built under R version 4.0.3”\n",
      "Warning message:\n",
      "“package ‘modeldata’ was built under R version 4.0.1”\n",
      "Warning message:\n",
      "“package ‘parsnip’ was built under R version 4.0.2”\n",
      "Warning message:\n",
      "“package ‘recipes’ was built under R version 4.0.1”\n",
      "Warning message:\n",
      "“package ‘tune’ was built under R version 4.0.2”\n",
      "Warning message:\n",
      "“package ‘workflows’ was built under R version 4.0.2”\n",
      "Warning message:\n",
      "“package ‘yardstick’ was built under R version 4.0.2”\n",
      "── \u001b[1mConflicts\u001b[22m ───────────────────────────────────────── tidymodels_conflicts() ──\n",
      "\u001b[31m✖\u001b[39m \u001b[34mscales\u001b[39m::\u001b[32mdiscard()\u001b[39m masks \u001b[34mpurrr\u001b[39m::discard()\n",
      "\u001b[31m✖\u001b[39m \u001b[34mdplyr\u001b[39m::\u001b[32mfilter()\u001b[39m   masks \u001b[34mstats\u001b[39m::filter()\n",
      "\u001b[31m✖\u001b[39m \u001b[34mrecipes\u001b[39m::\u001b[32mfixed()\u001b[39m  masks \u001b[34mstringr\u001b[39m::fixed()\n",
      "\u001b[31m✖\u001b[39m \u001b[34mdplyr\u001b[39m::\u001b[32mlag()\u001b[39m      masks \u001b[34mstats\u001b[39m::lag()\n",
      "\u001b[31m✖\u001b[39m \u001b[34myardstick\u001b[39m::\u001b[32mspec()\u001b[39m masks \u001b[34mreadr\u001b[39m::spec()\n",
      "\u001b[31m✖\u001b[39m \u001b[34mrecipes\u001b[39m::\u001b[32mstep()\u001b[39m   masks \u001b[34mstats\u001b[39m::step()\n",
      "\n",
      "\n",
      "Attaching package: ‘gridExtra’\n",
      "\n",
      "\n",
      "The following object is masked from ‘package:dplyr’:\n",
      "\n",
      "    combine\n",
      "\n",
      "\n"
     ]
    }
   ],
   "source": [
    "### Run this cell before continuing.\n",
    "library(tidyverse)\n",
    "library(tidymodels)\n",
    "library(gridExtra)\n",
    "set.seed(27)\n",
    "options(repr.matrix.max.rows = 8)"
   ]
  },
  {
   "cell_type": "markdown",
   "metadata": {},
   "source": [
    "⚫ Introduction:"
   ]
  },
  {
   "cell_type": "markdown",
   "metadata": {},
   "source": [
    "⚫ Preliminary exploratory data analysis:"
   ]
  },
  {
   "cell_type": "markdown",
   "metadata": {},
   "source": [
    "⚫ Methods:"
   ]
  },
  {
   "cell_type": "markdown",
   "metadata": {},
   "source": [
    "After reading the .csv dataset file into R, we first select the perimeter, area, and convex area columns as our predictor variables and the class column as our categorical variable (target). In order to keep the computation time and process manageable and neglect variables that do not do well in classifying two types of raisin (two classes have large overlapping areas), we will drop other columns at this point. In order to actually make predictions for new observations, we will use the K-nearest neighbors classification algorithm. Next, we plan to randomly split the whole dataset into a training dataset with 75% and a testing dataset with 25%. We then need to create the KNN model and the recipe. It is important to notice that both classes have a relatively balancing amount of observations, but the scale of each predictor varies significantly. In order to avoid the prediction being dominated by one variable, we will add scale and center steps to our recipe. Besides, instead of randomly assigning the K-neighbors value, we decide to perform cross-validation and tune the classifier to find the best K which gives us the highest accuracy. Finally, we can add the recipe and tuned model to the workflow and fit it to our training dataset. Then we can use it to predict the class of our testing dataset observations and compute the true accuracy of these predictions.\n",
    "\n",
    "To visualize the prediction, we would have to limit the predictors to two variables since a 3-dimension plot is generally not recommended in this course. We can create a colored prediction map (scatter plot) by creating a grid of synthetic new observations, with one predictor on x-axis and the other on y-axis, using colors to distinguish different types of raisin."
   ]
  },
  {
   "cell_type": "markdown",
   "metadata": {},
   "source": [
    "⚫ Expected outcomes and significance:"
   ]
  },
  {
   "cell_type": "markdown",
   "metadata": {},
   "source": [
    "Using the perimeter, area, and convex area columns of the dataset, we expect to classify a new raisin observation as either Kecimen or Besni.\n",
    "What impact could such findings have?\n",
    "These findings can further support the efficiency of using machine learning in order to classify a new observation using a dataset\n",
    "Individuals who have specific dietary restrictions or preferences are able to classify between different raisins or other types of foods by using physical features. \n",
    "What future questions could this lead to?\n",
    "When using more or less predictors, would the raisin classification still be the same?"
   ]
  },
  {
   "cell_type": "code",
   "execution_count": 3,
   "metadata": {},
   "outputs": [
    {
     "name": "stderr",
     "output_type": "stream",
     "text": [
      "Parsed with column specification:\n",
      "cols(\n",
      "  Area = \u001b[32mcol_double()\u001b[39m,\n",
      "  MajorAxisLength = \u001b[32mcol_double()\u001b[39m,\n",
      "  MinorAxisLength = \u001b[32mcol_double()\u001b[39m,\n",
      "  Eccentricity = \u001b[32mcol_double()\u001b[39m,\n",
      "  ConvexArea = \u001b[32mcol_double()\u001b[39m,\n",
      "  Extent = \u001b[32mcol_double()\u001b[39m,\n",
      "  Perimeter = \u001b[32mcol_double()\u001b[39m,\n",
      "  Class = \u001b[31mcol_character()\u001b[39m\n",
      ")\n",
      "\n"
     ]
    },
    {
     "data": {
      "text/html": [
       "<table>\n",
       "<caption>A tibble: 900 × 4</caption>\n",
       "<thead>\n",
       "\t<tr><th scope=col>Area</th><th scope=col>ConvexArea</th><th scope=col>Perimeter</th><th scope=col>Class</th></tr>\n",
       "\t<tr><th scope=col>&lt;dbl&gt;</th><th scope=col>&lt;dbl&gt;</th><th scope=col>&lt;dbl&gt;</th><th scope=col>&lt;chr&gt;</th></tr>\n",
       "</thead>\n",
       "<tbody>\n",
       "\t<tr><td>87524</td><td>90546</td><td>1184.040</td><td>Kecimen</td></tr>\n",
       "\t<tr><td>75166</td><td>78789</td><td>1121.786</td><td>Kecimen</td></tr>\n",
       "\t<tr><td>90856</td><td>93717</td><td>1208.575</td><td>Kecimen</td></tr>\n",
       "\t<tr><td>45928</td><td>47336</td><td> 844.162</td><td>Kecimen</td></tr>\n",
       "\t<tr><td>⋮</td><td>⋮</td><td>⋮</td><td>⋮</td></tr>\n",
       "\t<tr><td>87350</td><td> 90899</td><td>1214.252</td><td>Besni</td></tr>\n",
       "\t<tr><td>99657</td><td>106264</td><td>1292.828</td><td>Besni</td></tr>\n",
       "\t<tr><td>93523</td><td> 97653</td><td>1258.548</td><td>Besni</td></tr>\n",
       "\t<tr><td>85609</td><td> 89197</td><td>1272.862</td><td>Besni</td></tr>\n",
       "</tbody>\n",
       "</table>\n"
      ],
      "text/latex": [
       "A tibble: 900 × 4\n",
       "\\begin{tabular}{llll}\n",
       " Area & ConvexArea & Perimeter & Class\\\\\n",
       " <dbl> & <dbl> & <dbl> & <chr>\\\\\n",
       "\\hline\n",
       "\t 87524 & 90546 & 1184.040 & Kecimen\\\\\n",
       "\t 75166 & 78789 & 1121.786 & Kecimen\\\\\n",
       "\t 90856 & 93717 & 1208.575 & Kecimen\\\\\n",
       "\t 45928 & 47336 &  844.162 & Kecimen\\\\\n",
       "\t ⋮ & ⋮ & ⋮ & ⋮\\\\\n",
       "\t 87350 &  90899 & 1214.252 & Besni\\\\\n",
       "\t 99657 & 106264 & 1292.828 & Besni\\\\\n",
       "\t 93523 &  97653 & 1258.548 & Besni\\\\\n",
       "\t 85609 &  89197 & 1272.862 & Besni\\\\\n",
       "\\end{tabular}\n"
      ],
      "text/markdown": [
       "\n",
       "A tibble: 900 × 4\n",
       "\n",
       "| Area &lt;dbl&gt; | ConvexArea &lt;dbl&gt; | Perimeter &lt;dbl&gt; | Class &lt;chr&gt; |\n",
       "|---|---|---|---|\n",
       "| 87524 | 90546 | 1184.040 | Kecimen |\n",
       "| 75166 | 78789 | 1121.786 | Kecimen |\n",
       "| 90856 | 93717 | 1208.575 | Kecimen |\n",
       "| 45928 | 47336 |  844.162 | Kecimen |\n",
       "| ⋮ | ⋮ | ⋮ | ⋮ |\n",
       "| 87350 |  90899 | 1214.252 | Besni |\n",
       "| 99657 | 106264 | 1292.828 | Besni |\n",
       "| 93523 |  97653 | 1258.548 | Besni |\n",
       "| 85609 |  89197 | 1272.862 | Besni |\n",
       "\n"
      ],
      "text/plain": [
       "    Area  ConvexArea Perimeter Class  \n",
       "1   87524 90546      1184.040  Kecimen\n",
       "2   75166 78789      1121.786  Kecimen\n",
       "3   90856 93717      1208.575  Kecimen\n",
       "4   45928 47336       844.162  Kecimen\n",
       "⋮   ⋮     ⋮          ⋮         ⋮      \n",
       "897 87350  90899     1214.252  Besni  \n",
       "898 99657 106264     1292.828  Besni  \n",
       "899 93523  97653     1258.548  Besni  \n",
       "900 85609  89197     1272.862  Besni  "
      ]
     },
     "metadata": {},
     "output_type": "display_data"
    }
   ],
   "source": [
    "url <- \"https://raw.githubusercontent.com/ljy0401/DSCI-100-Group-Project-Group-27/main/raisin_dataset.csv\"\n",
    "raisin_data <- read_csv(url) %>% select(Area, ConvexArea, Perimeter, Class)\n",
    "raisin_his <- raisin_data %>% pivot_longer(cols=Area:Perimeter, names_to= \"Predictor\", values_to= \"Measurment\")\n",
    "raisin_data"
   ]
  },
  {
   "cell_type": "code",
   "execution_count": null,
   "metadata": {},
   "outputs": [],
   "source": []
  }
 ],
 "metadata": {
  "kernelspec": {
   "display_name": "R",
   "language": "R",
   "name": "ir"
  },
  "language_info": {
   "codemirror_mode": "r",
   "file_extension": ".r",
   "mimetype": "text/x-r-source",
   "name": "R",
   "pygments_lexer": "r",
   "version": "4.0.0"
  }
 },
 "nbformat": 4,
 "nbformat_minor": 4
}
